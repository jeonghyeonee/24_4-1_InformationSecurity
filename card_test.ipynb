{
 "cells": [
  {
   "cell_type": "code",
   "execution_count": 1,
   "metadata": {},
   "outputs": [],
   "source": [
    "card_num = [4,9,1,7,4,8,4,5,8,9,8,9,7,1,0,7]\n",
    "card_num_copy = [4,2,6,3,9,8,2,6,4,0,2,6,9,2,9,9]"
   ]
  },
  {
   "cell_type": "code",
   "execution_count": 2,
   "metadata": {},
   "outputs": [
    {
     "data": {
      "text/plain": [
       "16"
      ]
     },
     "execution_count": 2,
     "metadata": {},
     "output_type": "execute_result"
    }
   ],
   "source": [
    "len(card_num)"
   ]
  },
  {
   "cell_type": "code",
   "execution_count": 3,
   "metadata": {},
   "outputs": [
    {
     "name": "stdout",
     "output_type": "stream",
     "text": [
      "8\n",
      "17\n",
      "19\n",
      "26\n",
      "34\n",
      "42\n",
      "50\n",
      "55\n",
      "62\n",
      "71\n",
      "78\n",
      "87\n",
      "92\n",
      "93\n",
      "93\n",
      "100\n",
      "final:  100\n"
     ]
    }
   ],
   "source": [
    "total = 0\n",
    "\n",
    "for i in range(len(card_num)):\n",
    "    double_num = card_num[i] * 2\n",
    "    if i%2 == 0:\n",
    "        if (card_num[i]*2) >= 10:\n",
    "            # print(\"HERE\")\n",
    "            add = double_num//10 + double_num%10\n",
    "            total += add\n",
    "        else:\n",
    "            total += double_num\n",
    "    else:\n",
    "        total += card_num[i]\n",
    "    print(total)\n",
    "print(\"final: \", total)"
   ]
  },
  {
   "cell_type": "code",
   "execution_count": 13,
   "metadata": {},
   "outputs": [
    {
     "data": {
      "text/plain": [
       "[9, 2, 9, 6, 2, 0, 4, 6, 2, 8, 9, 3, 6, 2, 4]"
      ]
     },
     "execution_count": 13,
     "metadata": {},
     "output_type": "execute_result"
    }
   ],
   "source": [
    "card_num.reverse()\n",
    "card_num = card_num[1:]\n",
    "card_num"
   ]
  },
  {
   "cell_type": "code",
   "execution_count": 14,
   "metadata": {},
   "outputs": [
    {
     "name": "stdout",
     "output_type": "stream",
     "text": [
      "[18, 2, 18, 6, 4, 0, 8, 6, 4, 8, 18, 3, 12, 2, 8]\n"
     ]
    }
   ],
   "source": [
    "for i in range(len(card_num)):\n",
    "    if i % 2 == 0:\n",
    "        card_num[i] *= 2\n",
    "print(card_num)"
   ]
  },
  {
   "cell_type": "code",
   "execution_count": 15,
   "metadata": {},
   "outputs": [
    {
     "name": "stdout",
     "output_type": "stream",
     "text": [
      "[9, 2, 9, 6, 4, 0, 8, 6, 4, 8, 9, 3, 3, 2, 8]\n"
     ]
    }
   ],
   "source": [
    "for i in range(len(card_num)):\n",
    "    if card_num[i] > 9:\n",
    "        card_num[i] -= 9\n",
    "print(card_num)"
   ]
  },
  {
   "cell_type": "code",
   "execution_count": 16,
   "metadata": {},
   "outputs": [
    {
     "data": {
      "text/plain": [
       "81"
      ]
     },
     "execution_count": 16,
     "metadata": {},
     "output_type": "execute_result"
    }
   ],
   "source": [
    "total = sum(card_num)\n",
    "total"
   ]
  },
  {
   "cell_type": "code",
   "execution_count": 17,
   "metadata": {},
   "outputs": [
    {
     "name": "stdout",
     "output_type": "stream",
     "text": [
      "90\n"
     ]
    }
   ],
   "source": [
    "print(total + card_num_copy[-1])"
   ]
  },
  {
   "cell_type": "code",
   "execution_count": 18,
   "metadata": {},
   "outputs": [],
   "source": [
    "card_num.reverse()"
   ]
  },
  {
   "cell_type": "code",
   "execution_count": 19,
   "metadata": {},
   "outputs": [
    {
     "name": "stdout",
     "output_type": "stream",
     "text": [
      "7\n",
      "9\n",
      "15\n",
      "18\n",
      "27\n",
      "35\n",
      "43\n",
      "49\n",
      "56\n",
      "56\n",
      "64\n",
      "70\n",
      "79\n",
      "81\n",
      "90\n",
      "final:  90\n"
     ]
    }
   ],
   "source": [
    "total = 0\n",
    "\n",
    "for i in range(len(card_num)):\n",
    "    double_num = card_num[i] * 2\n",
    "    if i%2 == 0:\n",
    "        if (card_num[i]*2) >= 10:\n",
    "            # print(\"HERE\")\n",
    "            add = double_num//10 + double_num%10\n",
    "            total += add\n",
    "        else:\n",
    "            total += double_num\n",
    "    else:\n",
    "        total += card_num[i]\n",
    "    print(total)\n",
    "print(\"final: \", total)"
   ]
  },
  {
   "cell_type": "code",
   "execution_count": null,
   "metadata": {},
   "outputs": [],
   "source": []
  }
 ],
 "metadata": {
  "kernelspec": {
   "display_name": "Python 3",
   "language": "python",
   "name": "python3"
  },
  "language_info": {
   "codemirror_mode": {
    "name": "ipython",
    "version": 3
   },
   "file_extension": ".py",
   "mimetype": "text/x-python",
   "name": "python",
   "nbconvert_exporter": "python",
   "pygments_lexer": "ipython3",
   "version": "3.8.5"
  }
 },
 "nbformat": 4,
 "nbformat_minor": 2
}
